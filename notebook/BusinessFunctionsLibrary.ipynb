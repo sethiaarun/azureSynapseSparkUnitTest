{
  "cells": [
    {
      "cell_type": "markdown",
      "source": [
        "## List of Business Functions\r\n",
        "Test cases are written in LibraryNoteBookTest Notebook"
      ],
      "metadata": {
        "nteract": {
          "transient": {
            "deleting": false
          }
        }
      }
    },
    {
      "cell_type": "code",
      "source": [
        "import org.apache.spark.sql.expressions.UserDefinedFunction\r\n",
        "import org.apache.spark.sql.functions.udf\r\n",
        "\r\n",
        "/**\r\n",
        " * UDF Functions for Transformations\r\n",
        " */\r\n",
        "object UdfFunction extends Serializable {\r\n",
        "\r\n",
        "    /**\r\n",
        "     * zip code cleansing, valid format 78967-7689 or 78967, etc.\r\n",
        "     * @param zipCode\r\n",
        "     * @return\r\n",
        "     */\r\n",
        "    def cleanseZipCodeFn(zipCode:String): String = {\r\n",
        "        val result=\"^\\\\d{5}(?:[-\\\\s]\\\\d{4})?$\".r.findFirstMatchIn(zipCode).getOrElse(\"\").toString\r\n",
        "        result\r\n",
        "    }\r\n",
        "\r\n",
        "    /**\r\n",
        "     * Spark UDF for zip code cleansing\r\n",
        "     * @return\r\n",
        "     */\r\n",
        "    def cleanseZipCode: UserDefinedFunction = udf((zipCode)=>cleanseZipCodeFn(zipCode))\r\n",
        "\r\n",
        "}"
      ],
      "outputs": [],
      "execution_count": null,
      "metadata": {}
    }
  ],
  "metadata": {
    "kernelspec": {
      "name": "synapse_pyspark",
      "language": "Python",
      "display_name": "Synapse PySpark"
    },
    "language_info": {
      "name": "scala"
    },
    "kernel_info": {
      "name": "synapse_pyspark"
    },
    "description": "This is business function library.",
    "save_output": true,
    "synapse_widget": {
      "version": "0.1",
      "state": {}
    }
  },
  "nbformat": 4,
  "nbformat_minor": 2
}