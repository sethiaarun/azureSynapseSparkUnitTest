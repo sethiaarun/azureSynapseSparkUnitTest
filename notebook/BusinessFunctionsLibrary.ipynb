{
  "cells": [
    {
      "cell_type": "code",
      "source": [
        "import org.apache.spark.sql.expressions.UserDefinedFunction\r\n",
        "import org.apache.spark.sql.functions.udf\r\n",
        "\r\n",
        "/**\r\n",
        " * UDF Functions for Transformations\r\n",
        " */\r\n",
        "object UdfFunction extends Serializable {\r\n",
        "\r\n",
        "    /**\r\n",
        "     * zip code cleansing, valid format 78967-7689 or 78967, etc.\r\n",
        "     * @param zipCode\r\n",
        "     * @return\r\n",
        "     */\r\n",
        "    def cleanseZipCodeFn(zipCode:String): String = {\r\n",
        "        val result=\"^\\\\d{5}(?:[-\\\\s]\\\\d{4})?$\".r.findFirstMatchIn(zipCode).getOrElse(\"\").toString\r\n",
        "        result\r\n",
        "    }\r\n",
        "\r\n",
        "    /**\r\n",
        "     * Spark UDF for zip code cleansing\r\n",
        "     * @return\r\n",
        "     */\r\n",
        "    def cleanseZipCode: UserDefinedFunction = udf((zipCode)=>cleanseZipCodeFn(zipCode))\r\n",
        "\r\n",
        "}"
      ],
      "outputs": [
        {
          "output_type": "display_data",
          "data": {
            "application/vnd.livy.statement-meta+json": {
              "spark_pool": null,
              "session_id": null,
              "statement_id": null,
              "state": "finished",
              "livy_statement_state": null,
              "queued_time": "2023-01-25T16:09:39.8321017Z",
              "session_start_time": null,
              "execution_start_time": null,
              "execution_finish_time": "2023-01-25T16:09:39.9721648Z",
              "spark_jobs": null
            },
            "text/plain": "StatementMeta(, , , Finished, )"
          },
          "metadata": {}
        },
        {
          "output_type": "error",
          "ename": "LIVY_JOB_TIMED_OUT",
          "evalue": "Livy session has failed. Session state: Dead. Error code: LIVY_JOB_TIMED_OUT. [plugins.arunsethiatestpoc.testpool.35 WorkspaceType:<Synapse> CCID:<b03e28ca-a87a-498e-a48c-6ba57bd9f3e2>] [Monitoring] Livy Endpoint=[https://hubservice1.centralus.azuresynapse.net:8001/api/v1.0/publish/ea6d2cf7-3574-4de8-84de-d896de68fe3d]. Livy Id=[3]  Job failed during run time with state=[dead]. Source: Unknown.",
          "traceback": [
            "LIVY_JOB_TIMED_OUT: Livy session has failed. Session state: Dead. Error code: LIVY_JOB_TIMED_OUT. [plugins.arunsethiatestpoc.testpool.35 WorkspaceType:<Synapse> CCID:<b03e28ca-a87a-498e-a48c-6ba57bd9f3e2>] [Monitoring] Livy Endpoint=[https://hubservice1.centralus.azuresynapse.net:8001/api/v1.0/publish/ea6d2cf7-3574-4de8-84de-d896de68fe3d]. Livy Id=[3]  Job failed during run time with state=[dead]. Source: Unknown."
          ]
        }
      ],
      "execution_count": 2,
      "metadata": {}
    },
    {
      "cell_type": "code",
      "source": [],
      "outputs": [],
      "execution_count": null,
      "metadata": {
        "jupyter": {
          "source_hidden": false,
          "outputs_hidden": false
        },
        "nteract": {
          "transient": {
            "deleting": false
          }
        }
      }
    },
    {
      "cell_type": "code",
      "source": [],
      "outputs": [],
      "execution_count": null,
      "metadata": {
        "jupyter": {
          "source_hidden": false,
          "outputs_hidden": false
        },
        "nteract": {
          "transient": {
            "deleting": false
          }
        }
      }
    }
  ],
  "metadata": {
    "kernelspec": {
      "name": "synapse_pyspark",
      "language": "Python",
      "display_name": "Synapse PySpark"
    },
    "language_info": {
      "name": "scala"
    },
    "kernel_info": {
      "name": "synapse_pyspark"
    },
    "description": "This is business function library.",
    "save_output": true,
    "synapse_widget": {
      "version": "0.1",
      "state": {}
    }
  },
  "nbformat": 4,
  "nbformat_minor": 2
}