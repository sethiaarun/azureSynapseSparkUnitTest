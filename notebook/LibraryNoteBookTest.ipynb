{
  "cells": [
    {
      "cell_type": "markdown",
      "source": [
        "## The Notebook leverage business library as dependency provided via Workspace package\r\n",
        "We don't have to write any unit test cases in this notebook; because those are already covered as part of the business library"
      ],
      "metadata": {
        "nteract": {
          "transient": {
            "deleting": false
          }
        }
      }
    },
    {
      "cell_type": "code",
      "source": [
        "import azure.synapse.notebook.example.bl._\r\n",
        "case class Address(address: String, city: String, state:String, zipCode: String)\r\n",
        "val listOfAddress = Seq(Address(\"Address1\",\"City1\",\"State1\",\"87961\"),\r\n",
        "Address(\"Address2\",\"City2\",\"State2\",\"12346-9876\"),\r\n",
        "Address(\"Address3\",\"City1\",\"State1\",\"8761\"))\r\n",
        "val dataFrame = sc.parallelize(listOfAddress).toDF\r\n",
        "// register dataframe as Temp View\r\n",
        "dataFrame.createOrReplaceTempView(\"addressTemp\")"
      ],
      "outputs": [],
      "execution_count": null,
      "metadata": {
        "jupyter": {
          "source_hidden": false,
          "outputs_hidden": false
        },
        "nteract": {
          "transient": {
            "deleting": false
          }
        }
      }
    },
    {
      "cell_type": "code",
      "source": [
        "import org.apache.spark.sql.functions._\r\n",
        "val cleansedWithZipDF = dataFrame.withColumn(\"cleansedZipCode\", UdfFunction.cleanseZipCode(col(\"zipCode\")))\r\n",
        "cleansedWithZipDF.show()"
      ],
      "outputs": [],
      "execution_count": null,
      "metadata": {
        "jupyter": {
          "source_hidden": false,
          "outputs_hidden": false
        },
        "nteract": {
          "transient": {
            "deleting": false
          }
        }
      }
    },
    {
      "cell_type": "code",
      "source": [
        "//Registering Spark UDF to use it on SQL\r\n",
        "spark.udf.register(\"cleanseZipCode\", UdfFunction.cleanseZipCode)\r\n",
        "//use from SQL \r\n",
        "spark.sql(\"SELECT *, cleanseZipCode(zipCode) as cleansedZipCode FROM addressTemp\").show()"
      ],
      "outputs": [],
      "execution_count": null,
      "metadata": {
        "jupyter": {
          "source_hidden": false,
          "outputs_hidden": false
        },
        "nteract": {
          "transient": {
            "deleting": false
          }
        }
      }
    }
  ],
  "metadata": {
    "language_info": {
      "name": "scala"
    },
    "kernelspec": {
      "name": "synapse_spark",
      "language": "Scala",
      "display_name": "Synapse Spark"
    },
    "kernel_info": {
      "name": "synapse_spark"
    },
    "description": "External Package for the business functions",
    "save_output": true,
    "synapse_widget": {
      "version": "0.1",
      "state": {}
    }
  },
  "nbformat": 4,
  "nbformat_minor": 2
}