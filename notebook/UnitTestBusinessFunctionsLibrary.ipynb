{
  "cells": [
    {
      "cell_type": "markdown",
      "source": [
        "## List of Unit Test Cases for BusinessFunctionLibrary Notebook\r\n",
        "1. Add SparkTest dependency\r\n",
        "2. Load BusinessFunctionLibrary Notebook\r\n",
        "3. Create Unit Test cases with ScalaTest\r\n",
        "4. Run Test cases using simple runner"
      ],
      "metadata": {
        "nteract": {
          "transient": {
            "deleting": false
          }
        }
      }
    },
    {
      "cell_type": "code",
      "source": [
        "%%configure -f\r\n",
        "{ \"conf\": {\"spark.jars.packages\": \"org.scalatest:scalatest_2.12:3.2.14\"}}"
      ],
      "outputs": [],
      "execution_count": null,
      "metadata": {}
    },
    {
      "cell_type": "code",
      "source": [
        "%run BusinessFunctionsLibrary"
      ],
      "outputs": [],
      "execution_count": null,
      "metadata": {
        "jupyter": {
          "source_hidden": false,
          "outputs_hidden": false
        },
        "nteract": {
          "transient": {
            "deleting": false
          }
        }
      }
    },
    {
      "cell_type": "code",
      "source": [
        "import org.apache.spark.sql.{DataFrame, SparkSession}\r\n",
        "import org.scalatest._\r\n",
        "import flatspec._\r\n",
        "import matchers._\r\n",
        "\r\n",
        "/**\r\n",
        " * UDF Related Test cases from [[BusinessFunctionsLibrary]]\r\n",
        " */\r\n",
        "class UdfFunctionSpec extends  AnyFlatSpec with should.Matchers {\r\n",
        "\r\n",
        "  val sql: String => DataFrame = spark.sql _\r\n",
        "  spark.udf.register(\"cleanseZipCode\", UdfFunction.cleanseZipCode)\r\n",
        "  \"zip code 7689\" should \"returns an empty string; because It is an invalid zip code\" in {\r\n",
        "    val assertValue = \"\"\r\n",
        "    val inputValue= \"7689\"\r\n",
        "    val returnValue = getCleansedZipCode(inputValue)\r\n",
        "    returnValue should be (assertValue)\r\n",
        "  }\r\n",
        "  \"zip code 76869\" should \"returns a valid zipcode\" in {\r\n",
        "    val assertValue = \"76869\"\r\n",
        "    val returnValue = getCleansedZipCode(\"76869\")\r\n",
        "    returnValue should be (assertValue)\r\n",
        "  }\r\n",
        "  \"zip code 76869-8976\" should \"returns a valid zipcode\" in {\r\n",
        "    val assertValue = \"76869-8976\"\r\n",
        "    val returnValue = getCleansedZipCode(\"76869-8976\")\r\n",
        "    returnValue should be (assertValue)\r\n",
        "  }\r\n",
        "  \"empty zip code\" should \"returns an empty string; because It is an invalid zip code\" in {\r\n",
        "   val assertValue = \"\"\r\n",
        "    val returnValue = getCleansedZipCode(\"\")\r\n",
        "    returnValue should be (assertValue)\r\n",
        "  }\r\n",
        "  /**\r\n",
        "   * get cleansed zipcode using udf\r\n",
        "   * @param inputValue\r\n",
        "   * @return\r\n",
        "   */\r\n",
        "  private def getCleansedZipCode(inputValue: String) = sql(s\"select cleanseZipCode('${inputValue}')\").head().getString(0)\r\n",
        "}"
      ],
      "outputs": [],
      "execution_count": null,
      "metadata": {
        "jupyter": {
          "source_hidden": false,
          "outputs_hidden": false
        },
        "nteract": {
          "transient": {
            "deleting": false
          }
        }
      }
    },
    {
      "cell_type": "code",
      "source": [
        "// run test cases using ScalaTest's simple runner.\r\n",
        "import org.scalatest._\r\n",
        "run(new UdfFunctionSpec)"
      ],
      "outputs": [],
      "execution_count": null,
      "metadata": {
        "jupyter": {
          "source_hidden": false,
          "outputs_hidden": false
        },
        "nteract": {
          "transient": {
            "deleting": false
          }
        }
      }
    }
  ],
  "metadata": {
    "language_info": {
      "name": "scala"
    },
    "kernelspec": {
      "name": "synapse_pyspark",
      "language": "Python",
      "display_name": "Synapse PySpark"
    },
    "kernel_info": {
      "name": "synapse_pyspark"
    },
    "description": "Unit Test cases for the BusinessFunctionsLibrary",
    "save_output": true,
    "synapse_widget": {
      "version": "0.1",
      "state": {}
    }
  },
  "nbformat": 4,
  "nbformat_minor": 2
}